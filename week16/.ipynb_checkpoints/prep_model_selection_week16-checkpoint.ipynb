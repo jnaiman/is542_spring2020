{
 "cells": [
  {
   "cell_type": "markdown",
   "metadata": {},
   "source": [
    "# Week 15\n",
    "\n",
    "### Topic\n",
    " 1. Review gaussian mixture models and KNN for classification\n",
    " 1. Calculating train and test errors with access to the underlying population\n",
    " 1. TO SLIDES TO TALK ABOUT CROSS VALIDATION (CV)\n",
    " 1. k-fold Cross Validation\n",
    " 1. CV with tuning function\n",
    " 1. TO SLIDES TO TALK ABOUT BOOTSTRAPPING\n",
    " 1. Bootstrapping with tuning function\n"
   ]
  },
  {
   "cell_type": "code",
   "execution_count": 43,
   "metadata": {},
   "outputs": [],
   "source": [
    "# resize\n",
    "require(repr)\n",
    "options(repr.plot.width=10, repr.plot.height=8)"
   ]
  },
  {
   "cell_type": "code",
   "execution_count": null,
   "metadata": {},
   "outputs": [],
   "source": []
  }
 ],
 "metadata": {
  "kernelspec": {
   "display_name": "R",
   "language": "R",
   "name": "ir"
  },
  "language_info": {
   "codemirror_mode": "r",
   "file_extension": ".r",
   "mimetype": "text/x-r-source",
   "name": "R",
   "pygments_lexer": "r",
   "version": "3.6.1"
  }
 },
 "nbformat": 4,
 "nbformat_minor": 4
}
