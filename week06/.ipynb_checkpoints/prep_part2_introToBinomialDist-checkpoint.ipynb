{
 "cells": [
  {
   "cell_type": "markdown",
   "metadata": {},
   "source": [
    "# Week 06, Part 2\n",
    "\n",
    "### Topic\n",
    " 1. Intro to binomial distribution\n",
    " 1. BACK TO SLIDES FOR BINOMIAL FORMULA MEAN AND STDDEV\n"
   ]
  },
  {
   "cell_type": "code",
   "execution_count": 1,
   "metadata": {},
   "outputs": [
    {
     "name": "stderr",
     "output_type": "stream",
     "text": [
      "Loading required package: repr\n"
     ]
    }
   ],
   "source": [
    "# resize\n",
    "require(repr)\n",
    "options(repr.plot.width=4, repr.plot.height=4)"
   ]
  },
  {
   "cell_type": "markdown",
   "metadata": {},
   "source": [
    "## 1. Intro to Binomial Formula\n",
    "\n",
    "First lets look at an example we flip a coin and call a head a \"SUCCESS\" and tail a \"FAILURE\".\n",
    "\n",
    "Note: this is just to use the nomenclature of the binomial distribution - we could as easily call tails a success.\n",
    "\n",
    "We can use the function \"sample\" to simulate a fair coin toss:"
   ]
  },
  {
   "cell_type": "code",
   "execution_count": 1,
   "metadata": {},
   "outputs": [],
   "source": [
    "help(sample)"
   ]
  },
  {
   "cell_type": "code",
   "execution_count": 2,
   "metadata": {},
   "outputs": [],
   "source": [
    "nTosses = 10\n",
    "samples = sample(2,size=nTosses, replace=TRUE) # replace=TRUE just means we start again with equal prob of heads/tails"
   ]
  },
  {
   "cell_type": "code",
   "execution_count": 3,
   "metadata": {},
   "outputs": [
    {
     "name": "stdout",
     "output_type": "stream",
     "text": [
      " [1] 2 2 1 1 2 2 2 1 1 1\n"
     ]
    }
   ],
   "source": [
    "print(samples)"
   ]
  },
  {
   "cell_type": "markdown",
   "metadata": {},
   "source": [
    "Now, lets re-map 1$\\rightarrow$0 & 2$\\rightarrow$1 just for consistency in using the binomial formula:"
   ]
  },
  {
   "cell_type": "code",
   "execution_count": 4,
   "metadata": {},
   "outputs": [],
   "source": [
    "samples[samples==1] = 0 # tails, failures\n",
    "samples[samples==2] = 1 # heads, successes"
   ]
  },
  {
   "cell_type": "code",
   "execution_count": 5,
   "metadata": {},
   "outputs": [
    {
     "name": "stdout",
     "output_type": "stream",
     "text": [
      " [1] 1 1 0 0 1 1 1 0 0 0\n"
     ]
    }
   ],
   "source": [
    "print(samples)"
   ]
  },
  {
   "cell_type": "markdown",
   "metadata": {},
   "source": [
    "What do we expect the # of successes & failures to be?  Well, for a fair coin it should be p=0.5\n",
    "\n",
    "What about for our sample above?"
   ]
  },
  {
   "cell_type": "code",
   "execution_count": 6,
   "metadata": {},
   "outputs": [
    {
     "name": "stdout",
     "output_type": "stream",
     "text": [
      "[1] 0.5\n"
     ]
    }
   ],
   "source": [
    "prop_sample = sum(samples)/nTosses\n",
    "print(prop_sample)"
   ]
  },
  {
   "cell_type": "markdown",
   "metadata": {},
   "source": [
    "If we run this a few times, we see that we get widely varying answers for our *sample* proportion:"
   ]
  },
  {
   "cell_type": "code",
   "execution_count": 7,
   "metadata": {},
   "outputs": [
    {
     "name": "stdout",
     "output_type": "stream",
     "text": [
      "[1] 0.3\n",
      "[1] 0.8\n",
      "[1] 0.4\n",
      "[1] 0.8\n",
      "[1] 0.5\n",
      "[1] 0.4\n",
      "[1] 0.6\n",
      "[1] 0.7\n",
      "[1] 0.4\n",
      "[1] 0.5\n"
     ]
    }
   ],
   "source": [
    "for (i in 1:10){\n",
    "    samples = sample(2,size=nTosses, replace=TRUE) \n",
    "    samples[samples==1] = 0 # tails, failures\n",
    "    samples[samples==2] = 1 # heads, successes\n",
    "    \n",
    "    prop_sample = sum(samples)/nTosses\n",
    "    print(prop_sample)\n",
    "}"
   ]
  },
  {
   "cell_type": "markdown",
   "metadata": {},
   "source": [
    "What if we re-run with more coin flips?\n",
    "\n",
    "*go back and change nTosses to ~100 or 1000*\n",
    "\n",
    "Now we get things that are much closer to 0.5 if we increase nTosses.  This illustrates the difference between the population & sample means => this is important\n",
    "\n",
    "For the next topic (Ch. 4) we'll cover which is trying to estimate things like the population mean from the sample mean & quantifying how well we can do this.\n",
    "\n",
    "Let's explore this further: what is expectation & SD?"
   ]
  },
  {
   "cell_type": "markdown",
   "metadata": {},
   "source": [
    "# BACK TO SLIDES FOR BINOMIAL FORMULA MEAN AND STDDEV"
   ]
  },
  {
   "cell_type": "code",
   "execution_count": null,
   "metadata": {},
   "outputs": [],
   "source": []
  }
 ],
 "metadata": {
  "kernelspec": {
   "display_name": "R",
   "language": "R",
   "name": "ir"
  },
  "language_info": {
   "codemirror_mode": "r",
   "file_extension": ".r",
   "mimetype": "text/x-r-source",
   "name": "R",
   "pygments_lexer": "r",
   "version": "3.6.1"
  }
 },
 "nbformat": 4,
 "nbformat_minor": 4
}
