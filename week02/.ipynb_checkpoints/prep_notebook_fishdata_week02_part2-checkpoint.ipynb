{
 "cells": [
  {
   "cell_type": "markdown",
   "metadata": {},
   "source": [
    "# Week 02, Part 2: Analyize Fish Dataset\n",
    "\n",
    "See lecture slides for more info about how this dataset was collected.\n",
    "\n",
    "### Topics:\n",
    " 1. Read in fish data\n",
    " 1. Explore fish data\n"
   ]
  },
  {
   "cell_type": "markdown",
   "metadata": {},
   "source": [
    "Resize plots:"
   ]
  },
  {
   "cell_type": "code",
   "execution_count": 1,
   "metadata": {},
   "outputs": [
    {
     "name": "stderr",
     "output_type": "stream",
     "text": [
      "Loading required package: repr\n"
     ]
    }
   ],
   "source": [
    "require(repr)\n",
    "options(repr.plot.width=10, repr.plot.height=4)"
   ]
  },
  {
   "cell_type": "markdown",
   "metadata": {},
   "source": [
    "## 1. Read in fish data"
   ]
  },
  {
   "cell_type": "markdown",
   "metadata": {},
   "source": [
    "Read in fish data:"
   ]
  },
  {
   "cell_type": "code",
   "execution_count": 2,
   "metadata": {},
   "outputs": [],
   "source": [
    "fishdata = read.csv(\"undata_fish_2020.csv\")"
   ]
  },
  {
   "cell_type": "markdown",
   "metadata": {},
   "source": [
    "Make sure this is stored somewhere you can remember!  You can put it in the same directory as this file (or whatever R-script you are working from) or you can specify a location.  For example, on my Mac I can specify the default `Downloads` folder as the location with:\n",
    "\n",
    "```r\n",
    "fishdata = read.csv(\"~/Downloads/undata_fish_2020.csv\")\n",
    "```"
   ]
  },
  {
   "cell_type": "markdown",
   "metadata": {},
   "source": [
    "Let's make some vectors out of this data - you can use the data as a dataframe (which we'll get to later) but since many folks have a Python background, we might be more used to doing things with vectors:"
   ]
  },
  {
   "cell_type": "code",
   "execution_count": 3,
   "metadata": {},
   "outputs": [],
   "source": [
    "# make some vectors, first country:\n",
    "country = fishdata[,1]\n",
    "# how about year of data?\n",
    "year = fishdata[,2]\n",
    "# how about type of fish\n",
    "type = fishdata[,3]\n",
    "# how about transaction type? (import, export, re-export/import)\n",
    "transaction = fishdata[,4]\n",
    "# how about the cash amount of the transaction?\n",
    "trade_usd = fishdata[,5]\n",
    "# how about the weight of the fish in kg?\n",
    "weight = fishdata[,6]\n",
    "# how about the quantity name?\n",
    "quant_name = fishdata[,7] # some of of the \"quantity\" measures are weight, or # of items, or nothing"
   ]
  },
  {
   "cell_type": "markdown",
   "metadata": {},
   "source": [
    "## 2. Exploring the fish data"
   ]
  },
  {
   "cell_type": "code",
   "execution_count": null,
   "metadata": {},
   "outputs": [],
   "source": []
  }
 ],
 "metadata": {
  "kernelspec": {
   "display_name": "R",
   "language": "R",
   "name": "ir"
  },
  "language_info": {
   "codemirror_mode": "r",
   "file_extension": ".r",
   "mimetype": "text/x-r-source",
   "name": "R",
   "pygments_lexer": "r",
   "version": "3.6.1"
  }
 },
 "nbformat": 4,
 "nbformat_minor": 4
}
