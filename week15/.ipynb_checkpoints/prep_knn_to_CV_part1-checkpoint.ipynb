{
 "cells": [
  {
   "cell_type": "markdown",
   "metadata": {},
   "source": [
    "# Week 15\n",
    "\n",
    "### Topic\n",
    " 1. Review gaussian mixture models and KNN for classification\n"
   ]
  },
  {
   "cell_type": "code",
   "execution_count": 1,
   "metadata": {},
   "outputs": [
    {
     "name": "stderr",
     "output_type": "stream",
     "text": [
      "Loading required package: repr\n"
     ]
    }
   ],
   "source": [
    "# resize\n",
    "require(repr)\n",
    "options(repr.plot.width=8, repr.plot.height=5)"
   ]
  },
  {
   "cell_type": "markdown",
   "metadata": {},
   "source": [
    "## 1. Review gaussian mixture models and KNN for classification"
   ]
  },
  {
   "cell_type": "markdown",
   "metadata": {},
   "source": [
    "RECALL: to probe KNN we will do this in steps\n",
    "  1. generate some \"fake\" sample data from a known distribution\n",
    "  2. use this fake data to \"train\" our KNN\n",
    "  3. we can see how well we do/try to calculate the boundary between 2 distributions\n",
    "  4. Now this week: we'll start quantifying the test/training errors on this simulated dataset\n",
    "  5. we'll explore validatian methods (assuming we don't know anything about the underlying population/model)\n",
    "\n",
    "# lets upload all the package we had to install last time"
   ]
  }
 ],
 "metadata": {
  "kernelspec": {
   "display_name": "R",
   "language": "R",
   "name": "ir"
  },
  "language_info": {
   "codemirror_mode": "r",
   "file_extension": ".r",
   "mimetype": "text/x-r-source",
   "name": "R",
   "pygments_lexer": "r",
   "version": "3.6.1"
  }
 },
 "nbformat": 4,
 "nbformat_minor": 4
}
