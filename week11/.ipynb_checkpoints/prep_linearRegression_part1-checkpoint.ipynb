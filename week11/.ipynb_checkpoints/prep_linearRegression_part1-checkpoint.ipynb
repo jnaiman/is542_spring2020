{
 "cells": [
  {
   "cell_type": "markdown",
   "metadata": {},
   "source": [
    "# Week 11, Part 1\n",
    "\n",
    "### Topic\n",
    " 1. Play with linear fit\n",
    "\n"
   ]
  },
  {
   "cell_type": "code",
   "execution_count": 1,
   "metadata": {},
   "outputs": [
    {
     "name": "stderr",
     "output_type": "stream",
     "text": [
      "Loading required package: repr\n"
     ]
    }
   ],
   "source": [
    "# resize\n",
    "require(repr)\n",
    "options(repr.plot.width=8, repr.plot.height=5)"
   ]
  },
  {
   "cell_type": "markdown",
   "metadata": {},
   "source": [
    "## 1. Play with linear fit"
   ]
  },
  {
   "cell_type": "markdown",
   "metadata": {},
   "source": [
    "Install some packages:"
   ]
  },
  {
   "cell_type": "code",
   "execution_count": null,
   "metadata": {},
   "outputs": [
    {
     "name": "stderr",
     "output_type": "stream",
     "text": [
      "Updating HTML index of packages in '.Library'\n",
      "Making 'packages.html' ... done\n",
      "also installing the dependencies ‘farver’, ‘tweenr’, ‘polyclip’, ‘RcppEigen’, ‘ggstance’, ‘ggforce’, ‘png’, ‘jpeg’, ‘raster’, ‘sp’, ‘viridis’, ‘leaflet.providers’, ‘ggformula’, ‘mosaicCore’, ‘ggrepel’, ‘latticeExtra’, ‘ggdendro’, ‘gridExtra’, ‘leaflet’, ‘abd’, ‘mosaic’, ‘mosaicData’\n",
      "\n",
      "Warning message in install.packages(\"tigerstats\"):\n",
      "“installation of package ‘polyclip’ had non-zero exit status”"
     ]
    }
   ],
   "source": [
    "install.packages(\"manipulate\") # run once\n",
    "install.packages(\"tigerstats\") # run once"
   ]
  },
  {
   "cell_type": "code",
   "execution_count": null,
   "metadata": {},
   "outputs": [],
   "source": []
  }
 ],
 "metadata": {
  "kernelspec": {
   "display_name": "R",
   "language": "R",
   "name": "ir"
  },
  "language_info": {
   "codemirror_mode": "r",
   "file_extension": ".r",
   "mimetype": "text/x-r-source",
   "name": "R",
   "pygments_lexer": "r",
   "version": "3.6.1"
  }
 },
 "nbformat": 4,
 "nbformat_minor": 4
}
