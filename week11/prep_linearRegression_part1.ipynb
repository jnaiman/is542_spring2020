{
 "cells": [
  {
   "cell_type": "markdown",
   "metadata": {},
   "source": [
    "# Week 11, Part 1\n",
    "\n",
    "### Topic\n",
    " 1. Play with linear fit - in RStudio\n",
    " 1. Linear regression with Beers vs. Blood Alcohol level\n",
    "\n"
   ]
  },
  {
   "cell_type": "code",
   "execution_count": 1,
   "metadata": {},
   "outputs": [
    {
     "name": "stderr",
     "output_type": "stream",
     "text": [
      "Loading required package: repr\n"
     ]
    }
   ],
   "source": [
    "# resize\n",
    "require(repr)\n",
    "options(repr.plot.width=8, repr.plot.height=5)"
   ]
  },
  {
   "cell_type": "markdown",
   "metadata": {},
   "source": [
    "## 1. Play with linear fit - in RStudio"
   ]
  },
  {
   "cell_type": "markdown",
   "metadata": {},
   "source": [
    "Install some packages:\n",
    "\n",
    "```{r}\n",
    "install.packages(\"manipulate\") # run once\n",
    "install.packages(\"tigerstats\") # run once\n",
    "\n",
    "require(tigerstats)\n",
    "require(manipulate)\n",
    "\n",
    "FindRegLine()\n",
    "```\n",
    "\n",
    "*Play with the above for a bit!*\n",
    "\n",
    "Note: this is essentially what the computer is doing when you ask it for a linear regression - its trying numbers to get the right slope and intercept."
   ]
  },
  {
   "cell_type": "markdown",
   "metadata": {},
   "source": [
    "## 2. Linear regression with Beers vs. Blood Alcohol level"
   ]
  },
  {
   "cell_type": "markdown",
   "metadata": {},
   "source": [
    "Now, lets work with some real data: the Beers vs. BAC.\n",
    "\n",
    "BAC = in grams of alcohol per deciliter of blood. BAC is usually what is quoted for blood alcohol level.\n",
    "\n",
    "This data is from a study of the effects of beer consumption on blood alcohol levels. A group of n=16 student volunteers at The Ohio State University drank a randomly assigned number of beers. Thirty minutes later, a police officer measured their BAC.\n",
    "\n",
    "Your instincts should tell you about the direction of this relationship – that there is a positive relationship between Beers and BAC, i.e. - if you drink more beer, you're gonna get more drunk."
   ]
  },
  {
   "cell_type": "code",
   "execution_count": null,
   "metadata": {},
   "outputs": [],
   "source": []
  }
 ],
 "metadata": {
  "kernelspec": {
   "display_name": "R",
   "language": "R",
   "name": "ir"
  },
  "language_info": {
   "codemirror_mode": "r",
   "file_extension": ".r",
   "mimetype": "text/x-r-source",
   "name": "R",
   "pygments_lexer": "r",
   "version": "3.6.1"
  }
 },
 "nbformat": 4,
 "nbformat_minor": 4
}
